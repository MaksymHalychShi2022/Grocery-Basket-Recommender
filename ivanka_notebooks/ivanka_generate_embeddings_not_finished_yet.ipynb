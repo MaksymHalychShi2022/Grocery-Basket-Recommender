{
 "cells": [
  {
   "cell_type": "code",
   "execution_count": null,
   "metadata": {},
   "outputs": [],
   "source": [
    "import pandas as pd\n",
    "import numpy as np\n",
    "\n",
    "# Завантаження даних про пари та їх частоти\n",
    "pair_counts = pd.read_csv('unique_pair_counts.csv')\n",
    "\n",
    "# Припустимо, що в нас є файл з ембедінгами продуктів (product_embeddings.csv)\n",
    "product_embeddings = pd.read_csv('/Users/ivanna/Documents/University/semester_5/PROJECT/new_data/products_final_embedding.csv')\n",
    "\n",
    "# Приклад: product_id, embedding_1, embedding_2, ..., embedding_n\n",
    "# Перевірка структури ембедінгів\n",
    "print(product_embeddings.head())"
   ]
  },
  {
   "cell_type": "code",
   "execution_count": null,
   "metadata": {},
   "outputs": [],
   "source": [
    "import pandas as pd\n",
    "import numpy as np\n",
    "\n",
    "# Завантаження даних з CSV\n",
    "embeddings = pd.read_csv('/Users/ivanna/Documents/University/semester_5/PROJECT/new_data/products_final_embedding.csv')\n",
    "\n",
    "# Функція для розпарсення рядка у список чисел\n",
    "def parse_embedding(embedding_str):\n",
    "    # Видаляємо зайві символи та перетворюємо на список чисел\n",
    "    embedding_str = embedding_str.strip(\"[]\")  # Видаляємо квадратні дужки\n",
    "    return np.fromstring(embedding_str, sep=' ')\n",
    "\n",
    "# Застосовуємо функцію до колонки 'embedding'\n",
    "embeddings['embedding_parsed'] = embeddings['embedding'].apply(parse_embedding)\n",
    "\n",
    "# Розбиваємо кожен масив на окремі колонки\n",
    "embedding_df = pd.DataFrame(embeddings['embedding_parsed'].tolist(), index=embeddings.index)\n",
    "\n",
    "# Об'єднуємо з основною таблицею\n",
    "embeddings = pd.concat([embeddings, embedding_df], axis=1)\n",
    "\n",
    "# Видаляємо стару колонку з рядковими ембедінгами\n",
    "embeddings = embeddings.drop(['embedding', 'embedding_parsed'], axis=1)\n",
    "\n",
    "# Перевіряємо результат\n",
    "print(embeddings.head())\n",
    "\n",
    "# Зберігаємо очищений файл\n",
    "embeddings.to_csv('cleaned_embeddings.csv', index=False)\n"
   ]
  },
  {
   "cell_type": "code",
   "execution_count": 2,
   "metadata": {},
   "outputs": [
    {
     "name": "stdout",
     "output_type": "stream",
     "text": [
      "Unnamed: 0       0\n",
      "product_id       0\n",
      "product_name     0\n",
      "aisle_id         0\n",
      "department_id    0\n",
      "                ..\n",
      "763              0\n",
      "764              0\n",
      "765              0\n",
      "766              0\n",
      "767              0\n",
      "Length: 773, dtype: int64\n"
     ]
    }
   ],
   "source": [
    "import pandas as pd\n",
    "\n",
    "# Завантажуємо файл з ембедінгами\n",
    "embeddings = pd.read_csv('cleaned_embeddings.csv')\n",
    "\n",
    "# Перевіряємо на наявність NaN значень\n",
    "print(embeddings.isna().sum())\n",
    "\n",
    "# Переконуємось, що всі ембедінги числові\n",
    "for col in embeddings.columns[4:]:  # Пропускаємо перші колонки, залишаємо лише ембедінги\n",
    "    try:\n",
    "        pd.to_numeric(embeddings[col], errors='raise')\n",
    "    except Exception as e:\n",
    "        print(f\"Некоректні дані в колонці {col}: {e}\")"
   ]
  },
  {
   "cell_type": "code",
   "execution_count": null,
   "metadata": {},
   "outputs": [],
   "source": [
    "import pandas as pd\n",
    "import numpy as np\n",
    "\n",
    "# Завантаження даних про пари та ембедінги\n",
    "pair_counts = pd.read_csv('unique_pair_counts.csv')\n",
    "product_embeddings = pd.read_csv('/Users/ivanna/Documents/University/semester_5/PROJECT/new_data/products_final_embedding.csv')\n",
    "\n",
    "# Перевіряємо та конвертуємо ембедінги в числовий формат\n",
    "for col in product_embeddings.columns[1:]:  # Пропускаємо 'product_id'\n",
    "    product_embeddings[col] = pd.to_numeric(product_embeddings[col], errors='coerce').fillna(0.0)\n",
    "\n",
    "# Перетворюємо ембедінги на словник для швидкого доступу\n",
    "embeddings_dict = product_embeddings.set_index('product_id').to_dict(orient='index')\n",
    "\n",
    "def aggregate_embeddings(row):\n",
    "    a, b = row['product_1'], row['product_2']\n",
    "    prob = row['probability']\n",
    "\n",
    "    # Отримуємо ембедінги продуктів або вектор нулів, якщо продукт відсутній\n",
    "    emb_a = np.array(list(embeddings_dict.get(a, np.zeros(10)).values()), dtype=np.float64)\n",
    "    emb_b = np.array(list(embeddings_dict.get(b, np.zeros(10)).values()), dtype=np.float64)\n",
    "\n",
    "    # Агрегуємо ембедінги з урахуванням ймовірностей\n",
    "    aggregated_embedding = prob * (emb_a + emb_b) / 2\n",
    "    return aggregated_embedding\n",
    "\n",
    "# 1. Підраховуємо кількість появ кожного продукту\n",
    "all_products = pd.concat([pair_counts['product_1'], pair_counts['product_2']])\n",
    "product_frequencies = all_products.value_counts().reset_index()\n",
    "product_frequencies.columns = ['product_id', 'count']\n",
    "\n",
    "# Перетворюємо частоти продуктів у словник для швидкого доступу\n",
    "product_count_dict = product_frequencies.set_index('product_id')['count'].to_dict()\n",
    "\n",
    "# 2. Обчислюємо ймовірність для кожної пари\n",
    "def calculate_probability(row):\n",
    "    a, b, count_ab = row['product_1'], row['product_2'], row['count']\n",
    "    count_a = product_count_dict.get(a, 1)  # Якщо продукту немає, використовуємо 1 як значення\n",
    "    count_b = product_count_dict.get(b, 1)\n",
    "    probability = count_ab / (count_a + count_b - count_ab)\n",
    "    return probability\n",
    "\n",
    "pair_counts['probability'] = pair_counts.apply(calculate_probability, axis=1)\n",
    "\n",
    "# 3. Агрегуємо ембедінги для кожної пари\n",
    "pair_counts['aggregated_embedding'] = pair_counts.apply(aggregate_embeddings, axis=1)\n",
    "\n",
    "# 4. Зберігаємо результати\n",
    "pair_counts.to_csv('aggregated_pair_embeddings2.csv', index=False)\n",
    "\n",
    "print(\"Агрегація ембедінгів завершена! Результати збережено в 'aggregated_pair_embeddings.csv'.\")\n"
   ]
  },
  {
   "cell_type": "code",
   "execution_count": null,
   "metadata": {},
   "outputs": [],
   "source": []
  }
 ],
 "metadata": {
  "kernelspec": {
   "display_name": ".venv",
   "language": "python",
   "name": "python3"
  },
  "language_info": {
   "codemirror_mode": {
    "name": "ipython",
    "version": 3
   },
   "file_extension": ".py",
   "mimetype": "text/x-python",
   "name": "python",
   "nbconvert_exporter": "python",
   "pygments_lexer": "ipython3",
   "version": "3.12.6"
  }
 },
 "nbformat": 4,
 "nbformat_minor": 2
}
