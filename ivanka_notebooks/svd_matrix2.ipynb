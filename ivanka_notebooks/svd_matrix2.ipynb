{
 "cells": [
  {
   "cell_type": "code",
   "execution_count": 3,
   "metadata": {},
   "outputs": [],
   "source": [
    "import pandas as pd\n",
    "from surprise import Dataset, Reader\n",
    "\n",
    "# Завантажуємо ваші дані\n",
    "df = pd.read_csv('/Users/ivanna/Documents/University/Grocery-Basket-Recommender/data/extracted/user_product_interaction.csv')\n",
    "\n",
    "# Визначаємо діапазон рейтингів\n",
    "reader = Reader(rating_scale=(df['interaction'].min(), df['interaction'].max()))\n",
    "\n",
    "# Створюємо датасет для Surprise\n",
    "data = Dataset.load_from_df(df[['user_id', 'product_id', 'interaction']], reader)\n"
   ]
  },
  {
   "cell_type": "code",
   "execution_count": 4,
   "metadata": {},
   "outputs": [],
   "source": [
    "from surprise.model_selection import train_test_split\n",
    "\n",
    "trainset, testset = train_test_split(data, test_size=0.25)"
   ]
  },
  {
   "cell_type": "code",
   "execution_count": 6,
   "metadata": {},
   "outputs": [],
   "source": [
    "from surprise import SVD\n",
    "\n",
    "algo = SVD(n_factors=100, n_epochs=20, biased=True)"
   ]
  },
  {
   "cell_type": "code",
   "execution_count": 7,
   "metadata": {},
   "outputs": [
    {
     "data": {
      "text/plain": [
       "<surprise.prediction_algorithms.matrix_factorization.SVD at 0x107bd5b70>"
      ]
     },
     "execution_count": 7,
     "metadata": {},
     "output_type": "execute_result"
    }
   ],
   "source": [
    "algo.fit(trainset)"
   ]
  },
  {
   "cell_type": "code",
   "execution_count": 8,
   "metadata": {},
   "outputs": [
    {
     "name": "stdout",
     "output_type": "stream",
     "text": [
      "RMSE: 3.4567\n"
     ]
    }
   ],
   "source": [
    "from surprise import accuracy\n",
    "\n",
    "predictions = algo.test(testset)\n",
    "rmse = accuracy.rmse(predictions)"
   ]
  },
  {
   "cell_type": "markdown",
   "metadata": {},
   "source": [
    "Що означає RMSE: 3.4567?\n",
    "\n",
    "Величина помилки: Значення RMSE 3.4567 означає, що в середньому ваші прогнозовані рейтинги відрізняються від реальних на приблизно 3.4567 одиниць.\n",
    "Порівняння з діапазоном рейтингів: Важливо порівняти це значення з діапазоном ваших рейтингів. Якщо ваші рейтинги знаходяться в діапазоні від 1 до 5, то помилка в 3.4567 є досить великою, що вказує на низьку точність моделі. Якщо ж діапазон рейтингів більший (наприклад, від 1 до 100), то така помилка може бути прийнятною."
   ]
  },
  {
   "cell_type": "code",
   "execution_count": 9,
   "metadata": {},
   "outputs": [
    {
     "name": "stdout",
     "output_type": "stream",
     "text": [
      "2.437190335522701\n"
     ]
    }
   ],
   "source": [
    "user_id = '1'\n",
    "item_id = '101'\n",
    "prediction = algo.predict(user_id, item_id)\n",
    "print(prediction.est)"
   ]
  }
 ],
 "metadata": {
  "kernelspec": {
   "display_name": ".venv",
   "language": "python",
   "name": "python3"
  },
  "language_info": {
   "codemirror_mode": {
    "name": "ipython",
    "version": 3
   },
   "file_extension": ".py",
   "mimetype": "text/x-python",
   "name": "python",
   "nbconvert_exporter": "python",
   "pygments_lexer": "ipython3",
   "version": "3.10.15"
  }
 },
 "nbformat": 4,
 "nbformat_minor": 2
}
