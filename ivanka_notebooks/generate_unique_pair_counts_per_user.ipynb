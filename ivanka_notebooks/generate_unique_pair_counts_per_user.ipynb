{
 "cells": [
  {
   "cell_type": "code",
   "execution_count": 1,
   "metadata": {},
   "outputs": [
    {
     "name": "stdout",
     "output_type": "stream",
     "text": [
      "    user_id  product_1  product_2  count\n",
      "2         1        196      12427     10\n",
      "0         1        196      10258      9\n",
      "18        1      10258      12427      9\n",
      "7         1        196      25133      8\n",
      "22        1      10258      25133      8\n",
      "41        1      12427      25133      8\n",
      "3         1        196      13032      3\n",
      "15        1        196      46149      3\n",
      "19        1      10258      13032      3\n",
      "30        1      10258      46149      3\n"
     ]
    }
   ],
   "source": [
    "import pandas as pd\n",
    "\n",
    "# Завантажуємо CSV з парами продуктів\n",
    "pairs_df = pd.read_csv('order_product_pairs.csv')\n",
    "\n",
    "# Підрахунок кількості кожної унікальної пари для кожного користувача\n",
    "pair_counts_per_user = (\n",
    "    pairs_df.groupby(['user_id', 'product_1', 'product_2'])\n",
    "    .size()\n",
    "    .reset_index(name='count')\n",
    ")\n",
    "\n",
    "# Сортуємо результати по user_id та кількості у спадному порядку\n",
    "pair_counts_per_user = pair_counts_per_user.sort_values(by=['user_id', 'count'], ascending=[True, False])\n",
    "\n",
    "# Зберігаємо результати у CSV файл\n",
    "pair_counts_per_user.to_csv('unique_pair_counts_per_user.csv', index=False)\n",
    "\n",
    "# Виводимо топ-10 результатів\n",
    "print(pair_counts_per_user.head(10))\n"
   ]
  }
 ],
 "metadata": {
  "kernelspec": {
   "display_name": ".venv",
   "language": "python",
   "name": "python3"
  },
  "language_info": {
   "codemirror_mode": {
    "name": "ipython",
    "version": 3
   },
   "file_extension": ".py",
   "mimetype": "text/x-python",
   "name": "python",
   "nbconvert_exporter": "python",
   "pygments_lexer": "ipython3",
   "version": "3.12.6"
  }
 },
 "nbformat": 4,
 "nbformat_minor": 2
}
