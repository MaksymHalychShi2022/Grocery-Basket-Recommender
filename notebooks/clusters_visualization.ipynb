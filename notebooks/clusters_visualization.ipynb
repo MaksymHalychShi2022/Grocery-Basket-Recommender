{
 "cells": [
  {
   "cell_type": "code",
   "id": "initial_id",
   "metadata": {
    "collapsed": true
   },
   "source": [
    "import matplotlib.pyplot as plt\n",
    "import pandas as pd\n",
    "import seaborn as sns\n",
    "from scipy.io import mmread\n",
    "from sklearn.decomposition import TruncatedSVD"
   ],
   "outputs": [],
   "execution_count": null
  },
  {
   "metadata": {},
   "cell_type": "code",
   "source": [
    "# Load the sparse user-product interaction matrix\n",
    "sparse_matrix = mmread('../data/extracted/user_product_interaction_sparse.mtx').tocsr()\n",
    "\n",
    "# Load the clustering results\n",
    "clustering_results = pd.read_csv('../data/extracted/user_clusters.csv')"
   ],
   "id": "c97c5e1392c938c",
   "outputs": [],
   "execution_count": null
  },
  {
   "metadata": {},
   "cell_type": "code",
   "source": [
    "# Calculate the frequency of users in each cluster\n",
    "cluster_counts = clustering_results['cluster_id'].value_counts().sort_index()\n",
    "\n",
    "# Plot the distribution with reduced x-ticks\n",
    "plt.figure(figsize=(16, 8))\n",
    "cluster_counts.plot(kind='bar', color='skyblue', edgecolor='black')\n",
    "plt.title('Number of Users in Each Cluster', fontsize=20)\n",
    "plt.xlabel('Cluster ID', fontsize=15)\n",
    "plt.ylabel('Number of Users', fontsize=15)\n",
    "\n",
    "# Show only every 10th label for better readability\n",
    "plt.xticks(range(0, len(cluster_counts), 100))\n",
    "plt.grid(axis='y', linestyle='--', alpha=0.7)\n",
    "plt.tight_layout()\n",
    "plt.show()"
   ],
   "id": "d967640f7f9f4918",
   "outputs": [],
   "execution_count": null
  },
  {
   "metadata": {},
   "cell_type": "code",
   "source": [
    "# Apply Truncated SVD to reduce to 2D\n",
    "svd_2d = TruncatedSVD(n_components=2, random_state=42)\n",
    "reduced_2d = svd_2d.fit_transform(sparse_matrix)\n",
    "\n",
    "# Add the 2D reduced features to the clustering results\n",
    "clustering_results['pca_1'] = reduced_2d[:, 0]\n",
    "clustering_results['pca_2'] = reduced_2d[:, 1]"
   ],
   "id": "29842967d091bbcc",
   "outputs": [],
   "execution_count": null
  },
  {
   "metadata": {},
   "cell_type": "code",
   "source": [
    "plt.figure(figsize=(16, 10))\n",
    "sns.scatterplot(\n",
    "\tx='pca_1', y='pca_2',\n",
    "\thue='cluster_id',\n",
    "\tpalette='viridis',\n",
    "\tdata=clustering_results,\n",
    "\ts=10,\n",
    "\talpha=0.7,\n",
    "\tlegend=False  # Disable the legend\n",
    ")\n",
    "plt.title('User Clustering Visualization (2D PCA)')\n",
    "plt.xlabel('PCA Component 1')\n",
    "plt.ylabel('PCA Component 2')\n",
    "plt.tight_layout()\n",
    "plt.show()"
   ],
   "id": "8c34c59dd56a80ce",
   "outputs": [],
   "execution_count": null
  },
  {
   "metadata": {},
   "cell_type": "code",
   "source": "",
   "id": "2ddf17cc29b1b707",
   "outputs": [],
   "execution_count": null
  }
 ],
 "metadata": {
  "kernelspec": {
   "display_name": "Python 3",
   "language": "python",
   "name": "python3"
  },
  "language_info": {
   "codemirror_mode": {
    "name": "ipython",
    "version": 2
   },
   "file_extension": ".py",
   "mimetype": "text/x-python",
   "name": "python",
   "nbconvert_exporter": "python",
   "pygments_lexer": "ipython2",
   "version": "2.7.6"
  }
 },
 "nbformat": 4,
 "nbformat_minor": 5
}
